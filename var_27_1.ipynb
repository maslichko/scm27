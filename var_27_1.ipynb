{
 "cells": [
  {
   "cell_type": "markdown",
   "metadata": {},
   "source": [
    "## Мясникова Варвара, 381908-1\n",
    "### Метод разделимых наименьших квадратов. Квантовые дефекты\n",
    "\n",
    "Используя метод разделимых наименьших квадратов, построим модель вида\n",
    "$$\n",
    "y = \\beta_1 - \\beta_2 x - \\frac{\\arctan(\\frac{\\beta_3}{x-\\beta_4})}{\\pi}\n",
    "$$\n",
    "\n",
    "Предиктор $x$ – возбужденное состояние энергии, \n",
    "переменная отклика $y$ – число квантовых дефектов.\n"
   ]
  },
  {
   "cell_type": "code",
   "execution_count": 142,
   "metadata": {},
   "outputs": [],
   "source": [
    "#Библиотеки\n",
    "import matplotlib.pyplot as plt\n",
    "import scipy.constants as sc\n",
    "from scipy.optimize import curve_fit\n",
    "import numpy as np"
   ]
  },
  {
   "cell_type": "code",
   "execution_count": 143,
   "metadata": {},
   "outputs": [],
   "source": [
    "#Исходные данные\n",
    "x_data = np.array([-4868.68, -4868.09, -4867.41, -3375.19, -3373.14, -3372.03, -2473.74, -2472.35, \n",
    "                   -2469.45, -1894.65, -1893.40, -1497.24, -1495.85, -1493.41, -1208.68, -1206.18, \n",
    "                   -1206.04, -997.92, -996.61, -996.31, -834.94, -834.66, -710.03, -530.16, -464.17])\n",
    "y_data = np.array([0.252429, 0.252141, 0.251809, 0.297989, 0.296257, 0.295319, 0.339603, 0.337731,\n",
    "                   0.333820, 0.389510, 0.386998, 0.438864, 0.434887, 0.427893, 0.471568, 0.461699, \n",
    "                   0.461144, 0.513532, 0.506641, 0.505062, 0.535648, 0.533726, 0.568064, 0.612886, 0.624169])"
   ]
  },
  {
   "cell_type": "code",
   "execution_count": 144,
   "metadata": {},
   "outputs": [
    {
     "data": {
      "image/png": "[encoded data removed]",
      "text/plain": [
       "<Figure size 432x288 with 1 Axes>"
      ]
     },
     "metadata": {
      "needs_background": "light"
     },
     "output_type": "display_data"
    }
   ],
   "source": [
    "#График\n",
    "plt.plot(x_data,y_data, 'o')\n",
    "plt.grid()"
   ]
  },
  {
   "cell_type": "code",
   "execution_count": 145,
   "metadata": {},
   "outputs": [],
   "source": [
    "#Функция\n",
    "def func(x, b1, b2, b3, b4):\n",
    "    return b1-b2*x-(np.arctan(b3/(x-b4))/sc.pi)"
   ]
  },
  {
   "cell_type": "code",
   "execution_count": 146,
   "metadata": {},
   "outputs": [
    {
     "data": {
      "text/plain": [
       "array([ 2.01968489e-01, -6.19532468e-06,  1.20445636e+03, -1.81343092e+02])"
      ]
     },
     "execution_count": 146,
     "metadata": {},
     "output_type": "execute_result"
    }
   ],
   "source": [
    "#Находим значения параметров функции методом наименьших квадратов\n",
    "f_mnq, temp = curve_fit(func, x_data, y_data)\n",
    "f_mnq"
   ]
  },
  {
   "cell_type": "markdown",
   "metadata": {},
   "source": [
    "### Алгоритм метода разделимых наименьших квадратов:\n",
    "\n",
    "Для точек разбиения (b3j) находим значения остальных параметров, при которых значение функции\n",
    "\n",
    "$$\n",
    "\\sum_{i=1}^m (\\beta_1 - \\beta_2 x - \\frac{\\arctan(\\frac{\\beta_3}{x-\\beta_4})}{\\pi}  - y_i)^2 \\tag{*}\n",
    "$$\n",
    " является наименьшим. "
   ]
  },
  {
   "cell_type": "code",
   "execution_count": 137,
   "metadata": {},
   "outputs": [],
   "source": [
    "# b3 = 1.20445636e+03 = 1204.45636\n",
    "# Разобьем его на 20 точек шагом 0.1, по единице в каждую сторону\n",
    "b3j = np.array([1203.1, 1203.2, 1203.3, 1203.4, 1203.5, 1203.6, 1203.7, 1203.8, 1203.9, 1204.0, \n",
    "                1204.1, 1204.2, 1204.3, 1204.4, 1204.5, 1204.6, 1204.7, 1204.8, 1204.9, 1205.0])"
   ]
  },
  {
   "cell_type": "code",
   "execution_count": 180,
   "metadata": {},
   "outputs": [
    {
     "name": "stdout",
     "output_type": "stream",
     "text": [
      "0.0004948484815254665\n"
     ]
    }
   ],
   "source": [
    "#Массив, куда запишем значения функции при b3j\n",
    "func_sum = [0,0,0,0,0,0,0,0,0,0,0,0,0,0,0,0,0,0,0,0]\n",
    "\n",
    "for i in range(20):\n",
    "    b3 = b3j[i] \n",
    "    #Высчитываем параметры при b3j\n",
    "    def func(x, b1, b2, b4):\n",
    "        return b1-b2*x-(np.arctan(b3/(x-b4))/sc.pi)\n",
    "    f_mnq, temp = curve_fit(func, x_data, y_data)\n",
    "    #Высчитываем функцию (*)\n",
    "    def fmnq(x, y, b1, b2, b4):\n",
    "        return sum((b1-b2*x-(np.arctan(b3/(x-b4))/sc.pi) - y)**2)\n",
    "    \n",
    "    func_sum[i] = fmnq(x_data, y_data, *f_mnq)\n",
    "#Выводим минимум функции (*)\n",
    "print(min(func_sum))"
   ]
  },
  {
   "cell_type": "code",
   "execution_count": 182,
   "metadata": {},
   "outputs": [
    {
     "data": {
      "text/plain": [
       "14"
      ]
     },
     "execution_count": 182,
     "metadata": {},
     "output_type": "execute_result"
    }
   ],
   "source": [
    "#Найдем индекс полученного значения минимума функции (*)\n",
    "func_sum.index(0.0004948484815254665)"
   ]
  },
  {
   "cell_type": "code",
   "execution_count": 185,
   "metadata": {},
   "outputs": [
    {
     "data": {
      "text/plain": [
       "1204.5"
      ]
     },
     "execution_count": 185,
     "metadata": {},
     "output_type": "execute_result"
    }
   ],
   "source": [
    "#14 индуксу соответствует элемент из массива b3j:\n",
    "b3j[14]"
   ]
  },
  {
   "cell_type": "code",
   "execution_count": 189,
   "metadata": {},
   "outputs": [
    {
     "data": {
      "text/plain": [
       "array([ 2.01958024e-01, -6.19374343e-06, -1.81365590e+02])"
      ]
     },
     "execution_count": 189,
     "metadata": {},
     "output_type": "execute_result"
    }
   ],
   "source": [
    "#Восстановим остальные параметры, используя параметр b3\n",
    "b3 = b3j[14]\n",
    "def func(x, b1, b2, b4):\n",
    "        return b1-b2*x-(np.arctan(b3/(x-b4))/sc.pi)\n",
    "    \n",
    "f_mnq, temp = curve_fit(func, x_data, y_data)\n",
    "f_mnq"
   ]
  },
  {
   "cell_type": "markdown",
   "metadata": {},
   "source": [
    "#### Используя метод разделимых наименьших квадратов мы нашли неизвестные параметры с точностью до 0.1. \n",
    "#### Построим график используя найденные данные."
   ]
  },
  {
   "cell_type": "code",
   "execution_count": 204,
   "metadata": {},
   "outputs": [
    {
     "data": {
      "image/png": "[encoded data removed]",
      "text/plain": [
       "<Figure size 432x288 with 1 Axes>"
      ]
     },
     "metadata": {
      "needs_background": "light"
     },
     "output_type": "display_data"
    }
   ],
   "source": [
    "plt.plot(x_data,y_data, 'o') \n",
    "f = np.polyfit(x_data, y_data, 4)\n",
    "xx = np.linspace(x_data[0], x_data[24], 50)\n",
    "yy = np.polyval(f, xx)\n",
    "plt.plot(xx, yy,color='tab:orange')\n",
    "pass"
   ]
  },
  {
   "cell_type": "markdown",
   "metadata": {},
   "source": [
    "### Построим эту же модель, но используя аппроксимацию полиномом"
   ]
  },
  {
   "cell_type": "code",
   "execution_count": 215,
   "metadata": {},
   "outputs": [
    {
     "data": {
      "image/png": "[encoded data removed]",
      "text/plain": [
       "<Figure size 432x288 with 1 Axes>"
      ]
     },
     "metadata": {
      "needs_background": "light"
     },
     "output_type": "display_data"
    }
   ],
   "source": [
    "p = np.polyfit(x_data, y_data, 2) #2 степень многочлена\n",
    "plt.plot(x_data,y_data, 'o') \n",
    "f = np.polyfit(x_data, y_data, 4)\n",
    "xx = np.linspace(x_data[0], x_data[24], 50)\n",
    "yy = np.polyval(p, xx)\n",
    "plt.plot(xx, yy,color='tab:orange')\n",
    "pass"
   ]
  },
  {
   "cell_type": "markdown",
   "metadata": {},
   "source": [
    "Если сравнить графики, можно сделать вывод, что методы предоставляют разную точность."
   ]
  }
 ],
 "metadata": {
  "kernelspec": {
   "display_name": "Python 3",
   "language": "python",
   "name": "python3"
  },
  "language_info": {
   "codemirror_mode": {
    "name": "ipython",
    "version": 3
   },
   "file_extension": ".py",
   "mimetype": "text/x-python",
   "name": "python",
   "nbconvert_exporter": "python",
   "pygments_lexer": "ipython3",
   "version": "3.7.6"
  }
 },
 "nbformat": 4,
 "nbformat_minor": 4
}
